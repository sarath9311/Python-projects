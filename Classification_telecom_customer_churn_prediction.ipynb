{
  "cells": [
    {
      "cell_type": "markdown",
      "metadata": {
        "id": "view-in-github",
        "colab_type": "text"
      },
      "source": [
        "<a href=\"https://colab.research.google.com/github/sarath9311/Python-projects/blob/main/Classification_telecom_customer_churn_prediction.ipynb\" target=\"_parent\"><img src=\"https://colab.research.google.com/assets/colab-badge.svg\" alt=\"Open In Colab\"/></a>"
      ]
    },
    {
      "cell_type": "markdown",
      "id": "71bcc61a",
      "metadata": {
        "id": "71bcc61a",
        "papermill": {
          "duration": 0.004906,
          "end_time": "2024-02-28T10:22:48.540335",
          "exception": false,
          "start_time": "2024-02-28T10:22:48.535429",
          "status": "completed"
        },
        "tags": []
      },
      "source": [
        "# **Telecom Customer Churn Prediction**"
      ]
    },
    {
      "cell_type": "code",
      "execution_count": null,
      "id": "08dce867",
      "metadata": {
        "execution": {
          "iopub.execute_input": "2024-02-28T10:22:48.551187Z",
          "iopub.status.busy": "2024-02-28T10:22:48.550825Z",
          "iopub.status.idle": "2024-02-28T10:22:50.607638Z",
          "shell.execute_reply": "2024-02-28T10:22:50.606345Z"
        },
        "id": "08dce867",
        "papermill": {
          "duration": 2.064844,
          "end_time": "2024-02-28T10:22:50.609778",
          "exception": false,
          "start_time": "2024-02-28T10:22:48.544934",
          "status": "completed"
        },
        "tags": []
      },
      "outputs": [],
      "source": [
        "# import library\n",
        "import pandas as pd\n",
        "import numpy as np\n",
        "import matplotlib.pyplot as plt\n",
        "import seaborn as sns"
      ]
    },
    {
      "cell_type": "code",
      "source": [
        "from google.colab import drive\n",
        "drive.mount('/content/drive')"
      ],
      "metadata": {
        "id": "omWa3WGSqe9D"
      },
      "id": "omWa3WGSqe9D",
      "execution_count": null,
      "outputs": []
    },
    {
      "cell_type": "code",
      "execution_count": null,
      "id": "e4b654a0",
      "metadata": {
        "execution": {
          "iopub.execute_input": "2024-02-28T10:22:50.620709Z",
          "iopub.status.busy": "2024-02-28T10:22:50.620162Z",
          "iopub.status.idle": "2024-02-28T10:22:51.180809Z",
          "shell.execute_reply": "2024-02-28T10:22:51.179960Z"
        },
        "id": "e4b654a0",
        "papermill": {
          "duration": 0.568413,
          "end_time": "2024-02-28T10:22:51.182935",
          "exception": false,
          "start_time": "2024-02-28T10:22:50.614522",
          "status": "completed"
        },
        "tags": []
      },
      "outputs": [],
      "source": [
        "# read dataset\n",
        "df = pd.read_csv('https://github.com/YBIFoundation/Dataset/raw/main/TelecomCustomerChurn.csv')"
      ]
    },
    {
      "cell_type": "code",
      "execution_count": null,
      "id": "a6f8dc9a",
      "metadata": {
        "execution": {
          "iopub.execute_input": "2024-02-28T10:22:51.193658Z",
          "iopub.status.busy": "2024-02-28T10:22:51.193343Z",
          "iopub.status.idle": "2024-02-28T10:22:51.227491Z",
          "shell.execute_reply": "2024-02-28T10:22:51.226539Z"
        },
        "id": "a6f8dc9a",
        "outputId": "00471144-34a3-4a68-908f-7ffed47a25df",
        "papermill": {
          "duration": 0.041568,
          "end_time": "2024-02-28T10:22:51.229564",
          "exception": false,
          "start_time": "2024-02-28T10:22:51.187996",
          "status": "completed"
        },
        "tags": []
      },
      "outputs": [
        {
          "data": {
            "text/html": [
              "<div>\n",
              "<style scoped>\n",
              "    .dataframe tbody tr th:only-of-type {\n",
              "        vertical-align: middle;\n",
              "    }\n",
              "\n",
              "    .dataframe tbody tr th {\n",
              "        vertical-align: top;\n",
              "    }\n",
              "\n",
              "    .dataframe thead th {\n",
              "        text-align: right;\n",
              "    }\n",
              "</style>\n",
              "<table border=\"1\" class=\"dataframe\">\n",
              "  <thead>\n",
              "    <tr style=\"text-align: right;\">\n",
              "      <th></th>\n",
              "      <th>customerID</th>\n",
              "      <th>Gender</th>\n",
              "      <th>SeniorCitizen</th>\n",
              "      <th>Partner</th>\n",
              "      <th>Dependents</th>\n",
              "      <th>Tenure</th>\n",
              "      <th>PhoneService</th>\n",
              "      <th>MultipleLines</th>\n",
              "      <th>InternetService</th>\n",
              "      <th>OnlineSecurity</th>\n",
              "      <th>...</th>\n",
              "      <th>DeviceProtection</th>\n",
              "      <th>TechSupport</th>\n",
              "      <th>StreamingTV</th>\n",
              "      <th>StreamingMovies</th>\n",
              "      <th>Contract</th>\n",
              "      <th>PaperlessBilling</th>\n",
              "      <th>PaymentMethod</th>\n",
              "      <th>MonthlyCharges</th>\n",
              "      <th>TotalCharges</th>\n",
              "      <th>Churn</th>\n",
              "    </tr>\n",
              "  </thead>\n",
              "  <tbody>\n",
              "    <tr>\n",
              "      <th>0</th>\n",
              "      <td>7590-VHVEG</td>\n",
              "      <td>Female</td>\n",
              "      <td>0</td>\n",
              "      <td>Yes</td>\n",
              "      <td>No</td>\n",
              "      <td>1</td>\n",
              "      <td>No</td>\n",
              "      <td>No</td>\n",
              "      <td>DSL</td>\n",
              "      <td>No</td>\n",
              "      <td>...</td>\n",
              "      <td>No</td>\n",
              "      <td>No</td>\n",
              "      <td>No</td>\n",
              "      <td>No</td>\n",
              "      <td>Monthly</td>\n",
              "      <td>Yes</td>\n",
              "      <td>Manual</td>\n",
              "      <td>29.85</td>\n",
              "      <td>29.85</td>\n",
              "      <td>No</td>\n",
              "    </tr>\n",
              "    <tr>\n",
              "      <th>1</th>\n",
              "      <td>5575-GNVDE</td>\n",
              "      <td>Male</td>\n",
              "      <td>0</td>\n",
              "      <td>No</td>\n",
              "      <td>No</td>\n",
              "      <td>34</td>\n",
              "      <td>Yes</td>\n",
              "      <td>No</td>\n",
              "      <td>DSL</td>\n",
              "      <td>Yes</td>\n",
              "      <td>...</td>\n",
              "      <td>Yes</td>\n",
              "      <td>No</td>\n",
              "      <td>No</td>\n",
              "      <td>No</td>\n",
              "      <td>One year</td>\n",
              "      <td>No</td>\n",
              "      <td>Manual</td>\n",
              "      <td>56.95</td>\n",
              "      <td>1889.5</td>\n",
              "      <td>No</td>\n",
              "    </tr>\n",
              "    <tr>\n",
              "      <th>2</th>\n",
              "      <td>3668-QPYBK</td>\n",
              "      <td>Male</td>\n",
              "      <td>0</td>\n",
              "      <td>No</td>\n",
              "      <td>No</td>\n",
              "      <td>2</td>\n",
              "      <td>Yes</td>\n",
              "      <td>No</td>\n",
              "      <td>DSL</td>\n",
              "      <td>Yes</td>\n",
              "      <td>...</td>\n",
              "      <td>No</td>\n",
              "      <td>No</td>\n",
              "      <td>No</td>\n",
              "      <td>No</td>\n",
              "      <td>Monthly</td>\n",
              "      <td>Yes</td>\n",
              "      <td>Manual</td>\n",
              "      <td>53.85</td>\n",
              "      <td>108.15</td>\n",
              "      <td>Yes</td>\n",
              "    </tr>\n",
              "    <tr>\n",
              "      <th>3</th>\n",
              "      <td>7795-CFOCW</td>\n",
              "      <td>Male</td>\n",
              "      <td>0</td>\n",
              "      <td>No</td>\n",
              "      <td>No</td>\n",
              "      <td>45</td>\n",
              "      <td>No</td>\n",
              "      <td>No</td>\n",
              "      <td>DSL</td>\n",
              "      <td>Yes</td>\n",
              "      <td>...</td>\n",
              "      <td>Yes</td>\n",
              "      <td>Yes</td>\n",
              "      <td>No</td>\n",
              "      <td>No</td>\n",
              "      <td>One year</td>\n",
              "      <td>No</td>\n",
              "      <td>Bank transfer (automatic)</td>\n",
              "      <td>42.30</td>\n",
              "      <td>1840.75</td>\n",
              "      <td>No</td>\n",
              "    </tr>\n",
              "    <tr>\n",
              "      <th>4</th>\n",
              "      <td>9237-HQITU</td>\n",
              "      <td>Female</td>\n",
              "      <td>0</td>\n",
              "      <td>No</td>\n",
              "      <td>No</td>\n",
              "      <td>2</td>\n",
              "      <td>Yes</td>\n",
              "      <td>No</td>\n",
              "      <td>Fiber optic</td>\n",
              "      <td>No</td>\n",
              "      <td>...</td>\n",
              "      <td>No</td>\n",
              "      <td>No</td>\n",
              "      <td>No</td>\n",
              "      <td>No</td>\n",
              "      <td>Monthly</td>\n",
              "      <td>Yes</td>\n",
              "      <td>Manual</td>\n",
              "      <td>70.70</td>\n",
              "      <td>151.65</td>\n",
              "      <td>Yes</td>\n",
              "    </tr>\n",
              "  </tbody>\n",
              "</table>\n",
              "<p>5 rows × 21 columns</p>\n",
              "</div>"
            ],
            "text/plain": [
              "   customerID  Gender  SeniorCitizen Partner Dependents  Tenure PhoneService  \\\n",
              "0  7590-VHVEG  Female              0     Yes         No       1           No   \n",
              "1  5575-GNVDE    Male              0      No         No      34          Yes   \n",
              "2  3668-QPYBK    Male              0      No         No       2          Yes   \n",
              "3  7795-CFOCW    Male              0      No         No      45           No   \n",
              "4  9237-HQITU  Female              0      No         No       2          Yes   \n",
              "\n",
              "  MultipleLines InternetService OnlineSecurity  ... DeviceProtection  \\\n",
              "0            No             DSL             No  ...               No   \n",
              "1            No             DSL            Yes  ...              Yes   \n",
              "2            No             DSL            Yes  ...               No   \n",
              "3            No             DSL            Yes  ...              Yes   \n",
              "4            No     Fiber optic             No  ...               No   \n",
              "\n",
              "  TechSupport StreamingTV StreamingMovies  Contract PaperlessBilling  \\\n",
              "0          No          No              No   Monthly              Yes   \n",
              "1          No          No              No  One year               No   \n",
              "2          No          No              No   Monthly              Yes   \n",
              "3         Yes          No              No  One year               No   \n",
              "4          No          No              No   Monthly              Yes   \n",
              "\n",
              "               PaymentMethod MonthlyCharges  TotalCharges Churn  \n",
              "0                     Manual          29.85         29.85    No  \n",
              "1                     Manual          56.95        1889.5    No  \n",
              "2                     Manual          53.85        108.15   Yes  \n",
              "3  Bank transfer (automatic)          42.30       1840.75    No  \n",
              "4                     Manual          70.70        151.65   Yes  \n",
              "\n",
              "[5 rows x 21 columns]"
            ]
          },
          "execution_count": 3,
          "metadata": {},
          "output_type": "execute_result"
        }
      ],
      "source": [
        "df.head()"
      ]
    },
    {
      "cell_type": "code",
      "execution_count": null,
      "id": "272850fc",
      "metadata": {
        "execution": {
          "iopub.execute_input": "2024-02-28T10:22:51.240108Z",
          "iopub.status.busy": "2024-02-28T10:22:51.239798Z",
          "iopub.status.idle": "2024-02-28T10:22:51.262721Z",
          "shell.execute_reply": "2024-02-28T10:22:51.261382Z"
        },
        "id": "272850fc",
        "outputId": "139e4a6c-c9b5-4cea-ea09-38bacfee1008",
        "papermill": {
          "duration": 0.030523,
          "end_time": "2024-02-28T10:22:51.264897",
          "exception": false,
          "start_time": "2024-02-28T10:22:51.234374",
          "status": "completed"
        },
        "tags": []
      },
      "outputs": [
        {
          "name": "stdout",
          "output_type": "stream",
          "text": [
            "<class 'pandas.core.frame.DataFrame'>\n",
            "RangeIndex: 7043 entries, 0 to 7042\n",
            "Data columns (total 21 columns):\n",
            " #   Column            Non-Null Count  Dtype  \n",
            "---  ------            --------------  -----  \n",
            " 0   customerID        7043 non-null   object \n",
            " 1   Gender            7043 non-null   object \n",
            " 2   SeniorCitizen     7043 non-null   int64  \n",
            " 3   Partner           7043 non-null   object \n",
            " 4   Dependents        7043 non-null   object \n",
            " 5   Tenure            7043 non-null   int64  \n",
            " 6   PhoneService      7043 non-null   object \n",
            " 7   MultipleLines     7043 non-null   object \n",
            " 8   InternetService   7043 non-null   object \n",
            " 9   OnlineSecurity    7043 non-null   object \n",
            " 10  OnlineBackup      7043 non-null   object \n",
            " 11  DeviceProtection  7043 non-null   object \n",
            " 12  TechSupport       7043 non-null   object \n",
            " 13  StreamingTV       7043 non-null   object \n",
            " 14  StreamingMovies   7043 non-null   object \n",
            " 15  Contract          7043 non-null   object \n",
            " 16  PaperlessBilling  7043 non-null   object \n",
            " 17  PaymentMethod     7043 non-null   object \n",
            " 18  MonthlyCharges    7043 non-null   float64\n",
            " 19  TotalCharges      7043 non-null   object \n",
            " 20  Churn             7043 non-null   object \n",
            "dtypes: float64(1), int64(2), object(18)\n",
            "memory usage: 1.1+ MB\n"
          ]
        }
      ],
      "source": [
        "df.info()"
      ]
    },
    {
      "cell_type": "code",
      "execution_count": null,
      "id": "7d9576e5",
      "metadata": {
        "execution": {
          "iopub.execute_input": "2024-02-28T10:22:51.275657Z",
          "iopub.status.busy": "2024-02-28T10:22:51.275351Z",
          "iopub.status.idle": "2024-02-28T10:22:51.293700Z",
          "shell.execute_reply": "2024-02-28T10:22:51.292672Z"
        },
        "id": "7d9576e5",
        "outputId": "04e13d64-2c1d-4cab-a960-fb837e46bbe7",
        "papermill": {
          "duration": 0.025388,
          "end_time": "2024-02-28T10:22:51.295322",
          "exception": false,
          "start_time": "2024-02-28T10:22:51.269934",
          "status": "completed"
        },
        "tags": []
      },
      "outputs": [
        {
          "data": {
            "text/html": [
              "<div>\n",
              "<style scoped>\n",
              "    .dataframe tbody tr th:only-of-type {\n",
              "        vertical-align: middle;\n",
              "    }\n",
              "\n",
              "    .dataframe tbody tr th {\n",
              "        vertical-align: top;\n",
              "    }\n",
              "\n",
              "    .dataframe thead th {\n",
              "        text-align: right;\n",
              "    }\n",
              "</style>\n",
              "<table border=\"1\" class=\"dataframe\">\n",
              "  <thead>\n",
              "    <tr style=\"text-align: right;\">\n",
              "      <th></th>\n",
              "      <th>SeniorCitizen</th>\n",
              "      <th>Tenure</th>\n",
              "      <th>MonthlyCharges</th>\n",
              "    </tr>\n",
              "  </thead>\n",
              "  <tbody>\n",
              "    <tr>\n",
              "      <th>count</th>\n",
              "      <td>7043.000000</td>\n",
              "      <td>7043.000000</td>\n",
              "      <td>7043.000000</td>\n",
              "    </tr>\n",
              "    <tr>\n",
              "      <th>mean</th>\n",
              "      <td>0.162147</td>\n",
              "      <td>32.371149</td>\n",
              "      <td>64.761692</td>\n",
              "    </tr>\n",
              "    <tr>\n",
              "      <th>std</th>\n",
              "      <td>0.368612</td>\n",
              "      <td>24.559481</td>\n",
              "      <td>30.090047</td>\n",
              "    </tr>\n",
              "    <tr>\n",
              "      <th>min</th>\n",
              "      <td>0.000000</td>\n",
              "      <td>0.000000</td>\n",
              "      <td>18.250000</td>\n",
              "    </tr>\n",
              "    <tr>\n",
              "      <th>25%</th>\n",
              "      <td>0.000000</td>\n",
              "      <td>9.000000</td>\n",
              "      <td>35.500000</td>\n",
              "    </tr>\n",
              "    <tr>\n",
              "      <th>50%</th>\n",
              "      <td>0.000000</td>\n",
              "      <td>29.000000</td>\n",
              "      <td>70.350000</td>\n",
              "    </tr>\n",
              "    <tr>\n",
              "      <th>75%</th>\n",
              "      <td>0.000000</td>\n",
              "      <td>55.000000</td>\n",
              "      <td>89.850000</td>\n",
              "    </tr>\n",
              "    <tr>\n",
              "      <th>max</th>\n",
              "      <td>1.000000</td>\n",
              "      <td>72.000000</td>\n",
              "      <td>118.750000</td>\n",
              "    </tr>\n",
              "  </tbody>\n",
              "</table>\n",
              "</div>"
            ],
            "text/plain": [
              "       SeniorCitizen       Tenure  MonthlyCharges\n",
              "count    7043.000000  7043.000000     7043.000000\n",
              "mean        0.162147    32.371149       64.761692\n",
              "std         0.368612    24.559481       30.090047\n",
              "min         0.000000     0.000000       18.250000\n",
              "25%         0.000000     9.000000       35.500000\n",
              "50%         0.000000    29.000000       70.350000\n",
              "75%         0.000000    55.000000       89.850000\n",
              "max         1.000000    72.000000      118.750000"
            ]
          },
          "execution_count": 5,
          "metadata": {},
          "output_type": "execute_result"
        }
      ],
      "source": [
        "df.describe()"
      ]
    },
    {
      "cell_type": "code",
      "execution_count": null,
      "id": "ba94d9ef",
      "metadata": {
        "execution": {
          "iopub.execute_input": "2024-02-28T10:22:51.306500Z",
          "iopub.status.busy": "2024-02-28T10:22:51.306022Z",
          "iopub.status.idle": "2024-02-28T10:22:51.317255Z",
          "shell.execute_reply": "2024-02-28T10:22:51.316551Z"
        },
        "id": "ba94d9ef",
        "outputId": "16a9d1dd-660c-4664-f616-4cd8c940a03e",
        "papermill": {
          "duration": 0.018578,
          "end_time": "2024-02-28T10:22:51.318798",
          "exception": false,
          "start_time": "2024-02-28T10:22:51.300220",
          "status": "completed"
        },
        "tags": []
      },
      "outputs": [
        {
          "data": {
            "text/plain": [
              "customerID          0\n",
              "Gender              0\n",
              "SeniorCitizen       0\n",
              "Partner             0\n",
              "Dependents          0\n",
              "Tenure              0\n",
              "PhoneService        0\n",
              "MultipleLines       0\n",
              "InternetService     0\n",
              "OnlineSecurity      0\n",
              "OnlineBackup        0\n",
              "DeviceProtection    0\n",
              "TechSupport         0\n",
              "StreamingTV         0\n",
              "StreamingMovies     0\n",
              "Contract            0\n",
              "PaperlessBilling    0\n",
              "PaymentMethod       0\n",
              "MonthlyCharges      0\n",
              "TotalCharges        0\n",
              "Churn               0\n",
              "dtype: int64"
            ]
          },
          "execution_count": 6,
          "metadata": {},
          "output_type": "execute_result"
        }
      ],
      "source": [
        "df.isna().sum()"
      ]
    },
    {
      "cell_type": "code",
      "execution_count": null,
      "id": "0615aaea",
      "metadata": {
        "execution": {
          "iopub.execute_input": "2024-02-28T10:22:51.330519Z",
          "iopub.status.busy": "2024-02-28T10:22:51.329765Z",
          "iopub.status.idle": "2024-02-28T10:22:51.346730Z",
          "shell.execute_reply": "2024-02-28T10:22:51.345792Z"
        },
        "id": "0615aaea",
        "outputId": "9171c0e4-3f7a-46bc-c590-78cd7f1b57eb",
        "papermill": {
          "duration": 0.02499,
          "end_time": "2024-02-28T10:22:51.348721",
          "exception": false,
          "start_time": "2024-02-28T10:22:51.323731",
          "status": "completed"
        },
        "tags": []
      },
      "outputs": [
        {
          "data": {
            "text/plain": [
              "0"
            ]
          },
          "execution_count": 7,
          "metadata": {},
          "output_type": "execute_result"
        }
      ],
      "source": [
        "df.duplicated().sum()"
      ]
    },
    {
      "cell_type": "code",
      "execution_count": null,
      "id": "88da8763",
      "metadata": {
        "execution": {
          "iopub.execute_input": "2024-02-28T10:22:51.361845Z",
          "iopub.status.busy": "2024-02-28T10:22:51.361503Z",
          "iopub.status.idle": "2024-02-28T10:22:51.367466Z",
          "shell.execute_reply": "2024-02-28T10:22:51.366460Z"
        },
        "id": "88da8763",
        "outputId": "657842f1-bff4-451d-f681-c9ad23184f0d",
        "papermill": {
          "duration": 0.015165,
          "end_time": "2024-02-28T10:22:51.369473",
          "exception": false,
          "start_time": "2024-02-28T10:22:51.354308",
          "status": "completed"
        },
        "tags": []
      },
      "outputs": [
        {
          "data": {
            "text/plain": [
              "Index(['customerID', 'Gender', 'SeniorCitizen', 'Partner', 'Dependents',\n",
              "       'Tenure', 'PhoneService', 'MultipleLines', 'InternetService',\n",
              "       'OnlineSecurity', 'OnlineBackup', 'DeviceProtection', 'TechSupport',\n",
              "       'StreamingTV', 'StreamingMovies', 'Contract', 'PaperlessBilling',\n",
              "       'PaymentMethod', 'MonthlyCharges', 'TotalCharges', 'Churn'],\n",
              "      dtype='object')"
            ]
          },
          "execution_count": 8,
          "metadata": {},
          "output_type": "execute_result"
        }
      ],
      "source": [
        "df.columns"
      ]
    },
    {
      "cell_type": "code",
      "execution_count": null,
      "id": "da58a141",
      "metadata": {
        "execution": {
          "iopub.execute_input": "2024-02-28T10:22:51.383118Z",
          "iopub.status.busy": "2024-02-28T10:22:51.382781Z",
          "iopub.status.idle": "2024-02-28T10:22:51.389535Z",
          "shell.execute_reply": "2024-02-28T10:22:51.388704Z"
        },
        "id": "da58a141",
        "papermill": {
          "duration": 0.016363,
          "end_time": "2024-02-28T10:22:51.391520",
          "exception": false,
          "start_time": "2024-02-28T10:22:51.375157",
          "status": "completed"
        },
        "tags": []
      },
      "outputs": [],
      "source": [
        "# define y and X\n",
        "y = df['Churn']\n",
        "X = df.drop(['customerID','Churn'],axis=1)"
      ]
    },
    {
      "cell_type": "code",
      "execution_count": null,
      "id": "5c9387dd",
      "metadata": {
        "execution": {
          "iopub.execute_input": "2024-02-28T10:22:51.404726Z",
          "iopub.status.busy": "2024-02-28T10:22:51.404336Z",
          "iopub.status.idle": "2024-02-28T10:22:51.412339Z",
          "shell.execute_reply": "2024-02-28T10:22:51.411549Z"
        },
        "id": "5c9387dd",
        "outputId": "19d0d4a8-b608-4448-e261-d44d1a228c8e",
        "papermill": {
          "duration": 0.016719,
          "end_time": "2024-02-28T10:22:51.414044",
          "exception": false,
          "start_time": "2024-02-28T10:22:51.397325",
          "status": "completed"
        },
        "tags": []
      },
      "outputs": [
        {
          "data": {
            "text/plain": [
              "Churn\n",
              "No     5174\n",
              "Yes    1869\n",
              "Name: count, dtype: int64"
            ]
          },
          "execution_count": 10,
          "metadata": {},
          "output_type": "execute_result"
        }
      ],
      "source": [
        "y.value_counts()"
      ]
    },
    {
      "cell_type": "code",
      "execution_count": null,
      "id": "8258b2f5",
      "metadata": {
        "execution": {
          "iopub.execute_input": "2024-02-28T10:22:51.428911Z",
          "iopub.status.busy": "2024-02-28T10:22:51.427760Z",
          "iopub.status.idle": "2024-02-28T10:22:52.106044Z",
          "shell.execute_reply": "2024-02-28T10:22:52.105200Z"
        },
        "id": "8258b2f5",
        "papermill": {
          "duration": 0.687276,
          "end_time": "2024-02-28T10:22:52.107996",
          "exception": false,
          "start_time": "2024-02-28T10:22:51.420720",
          "status": "completed"
        },
        "tags": []
      },
      "outputs": [],
      "source": [
        "# sample oversampling\n",
        "from imblearn.over_sampling import RandomOverSampler"
      ]
    },
    {
      "cell_type": "code",
      "execution_count": null,
      "id": "577e62ec",
      "metadata": {
        "execution": {
          "iopub.execute_input": "2024-02-28T10:22:52.121050Z",
          "iopub.status.busy": "2024-02-28T10:22:52.120156Z",
          "iopub.status.idle": "2024-02-28T10:22:52.124235Z",
          "shell.execute_reply": "2024-02-28T10:22:52.123531Z"
        },
        "id": "577e62ec",
        "papermill": {
          "duration": 0.012033,
          "end_time": "2024-02-28T10:22:52.125816",
          "exception": false,
          "start_time": "2024-02-28T10:22:52.113783",
          "status": "completed"
        },
        "tags": []
      },
      "outputs": [],
      "source": [
        "ros = RandomOverSampler()"
      ]
    },
    {
      "cell_type": "code",
      "execution_count": null,
      "id": "57b9a1a0",
      "metadata": {
        "execution": {
          "iopub.execute_input": "2024-02-28T10:22:52.138671Z",
          "iopub.status.busy": "2024-02-28T10:22:52.138156Z",
          "iopub.status.idle": "2024-02-28T10:22:52.168373Z",
          "shell.execute_reply": "2024-02-28T10:22:52.167547Z"
        },
        "id": "57b9a1a0",
        "papermill": {
          "duration": 0.038944,
          "end_time": "2024-02-28T10:22:52.170552",
          "exception": false,
          "start_time": "2024-02-28T10:22:52.131608",
          "status": "completed"
        },
        "tags": []
      },
      "outputs": [],
      "source": [
        "X,y = ros.fit_resample(X,y)"
      ]
    },
    {
      "cell_type": "code",
      "execution_count": null,
      "id": "f18fb83d",
      "metadata": {
        "execution": {
          "iopub.execute_input": "2024-02-28T10:22:52.183013Z",
          "iopub.status.busy": "2024-02-28T10:22:52.182712Z",
          "iopub.status.idle": "2024-02-28T10:22:52.190178Z",
          "shell.execute_reply": "2024-02-28T10:22:52.189242Z"
        },
        "id": "f18fb83d",
        "outputId": "15d6a8bd-a9a7-43f9-8983-339116ab55f0",
        "papermill": {
          "duration": 0.015596,
          "end_time": "2024-02-28T10:22:52.191881",
          "exception": false,
          "start_time": "2024-02-28T10:22:52.176285",
          "status": "completed"
        },
        "tags": []
      },
      "outputs": [
        {
          "data": {
            "text/plain": [
              "Churn\n",
              "No     5174\n",
              "Yes    5174\n",
              "Name: count, dtype: int64"
            ]
          },
          "execution_count": 14,
          "metadata": {},
          "output_type": "execute_result"
        }
      ],
      "source": [
        "y.value_counts()"
      ]
    },
    {
      "cell_type": "code",
      "execution_count": null,
      "id": "902d3c3e",
      "metadata": {
        "execution": {
          "iopub.execute_input": "2024-02-28T10:22:52.204763Z",
          "iopub.status.busy": "2024-02-28T10:22:52.204463Z",
          "iopub.status.idle": "2024-02-28T10:22:52.208926Z",
          "shell.execute_reply": "2024-02-28T10:22:52.207720Z"
        },
        "id": "902d3c3e",
        "papermill": {
          "duration": 0.012981,
          "end_time": "2024-02-28T10:22:52.210657",
          "exception": false,
          "start_time": "2024-02-28T10:22:52.197676",
          "status": "completed"
        },
        "tags": []
      },
      "outputs": [],
      "source": [
        "# ordinal encoding\n",
        "from sklearn.preprocessing import OrdinalEncoder"
      ]
    },
    {
      "cell_type": "code",
      "execution_count": null,
      "id": "c0a7e5aa",
      "metadata": {
        "execution": {
          "iopub.execute_input": "2024-02-28T10:22:52.224277Z",
          "iopub.status.busy": "2024-02-28T10:22:52.223726Z",
          "iopub.status.idle": "2024-02-28T10:22:52.226965Z",
          "shell.execute_reply": "2024-02-28T10:22:52.226426Z"
        },
        "id": "c0a7e5aa",
        "papermill": {
          "duration": 0.011538,
          "end_time": "2024-02-28T10:22:52.228344",
          "exception": false,
          "start_time": "2024-02-28T10:22:52.216806",
          "status": "completed"
        },
        "tags": []
      },
      "outputs": [],
      "source": [
        "oe = OrdinalEncoder()"
      ]
    },
    {
      "cell_type": "code",
      "execution_count": null,
      "id": "a27e5e4e",
      "metadata": {
        "execution": {
          "iopub.execute_input": "2024-02-28T10:22:52.241498Z",
          "iopub.status.busy": "2024-02-28T10:22:52.241113Z",
          "iopub.status.idle": "2024-02-28T10:22:52.310286Z",
          "shell.execute_reply": "2024-02-28T10:22:52.309075Z"
        },
        "id": "a27e5e4e",
        "papermill": {
          "duration": 0.078203,
          "end_time": "2024-02-28T10:22:52.312551",
          "exception": false,
          "start_time": "2024-02-28T10:22:52.234348",
          "status": "completed"
        },
        "tags": []
      },
      "outputs": [],
      "source": [
        "X = oe.fit_transform(X)"
      ]
    },
    {
      "cell_type": "code",
      "execution_count": null,
      "id": "e7a7d039",
      "metadata": {
        "execution": {
          "iopub.execute_input": "2024-02-28T10:22:52.326540Z",
          "iopub.status.busy": "2024-02-28T10:22:52.326214Z",
          "iopub.status.idle": "2024-02-28T10:22:52.333756Z",
          "shell.execute_reply": "2024-02-28T10:22:52.332402Z"
        },
        "id": "e7a7d039",
        "papermill": {
          "duration": 0.016888,
          "end_time": "2024-02-28T10:22:52.336222",
          "exception": false,
          "start_time": "2024-02-28T10:22:52.319334",
          "status": "completed"
        },
        "tags": []
      },
      "outputs": [],
      "source": [
        "# train test split\n",
        "from sklearn.model_selection import train_test_split\n",
        "X_train,X_test,y_train,y_test = train_test_split(X,y,random_state=25)"
      ]
    },
    {
      "cell_type": "code",
      "execution_count": null,
      "id": "7a12409f",
      "metadata": {
        "execution": {
          "iopub.execute_input": "2024-02-28T10:22:52.351276Z",
          "iopub.status.busy": "2024-02-28T10:22:52.350903Z",
          "iopub.status.idle": "2024-02-28T10:22:52.355723Z",
          "shell.execute_reply": "2024-02-28T10:22:52.354630Z"
        },
        "id": "7a12409f",
        "papermill": {
          "duration": 0.014732,
          "end_time": "2024-02-28T10:22:52.357730",
          "exception": false,
          "start_time": "2024-02-28T10:22:52.342998",
          "status": "completed"
        },
        "tags": []
      },
      "outputs": [],
      "source": [
        "# select mode\n",
        "from sklearn.ensemble import RandomForestClassifier"
      ]
    },
    {
      "cell_type": "code",
      "execution_count": null,
      "id": "266a6891",
      "metadata": {
        "execution": {
          "iopub.execute_input": "2024-02-28T10:22:52.372728Z",
          "iopub.status.busy": "2024-02-28T10:22:52.372282Z",
          "iopub.status.idle": "2024-02-28T10:22:52.377210Z",
          "shell.execute_reply": "2024-02-28T10:22:52.376017Z"
        },
        "id": "266a6891",
        "papermill": {
          "duration": 0.014886,
          "end_time": "2024-02-28T10:22:52.379241",
          "exception": false,
          "start_time": "2024-02-28T10:22:52.364355",
          "status": "completed"
        },
        "tags": []
      },
      "outputs": [],
      "source": [
        "rfc = RandomForestClassifier()"
      ]
    },
    {
      "cell_type": "code",
      "execution_count": null,
      "id": "c290f0c4",
      "metadata": {
        "execution": {
          "iopub.execute_input": "2024-02-28T10:22:52.392763Z",
          "iopub.status.busy": "2024-02-28T10:22:52.392457Z",
          "iopub.status.idle": "2024-02-28T10:22:53.326618Z",
          "shell.execute_reply": "2024-02-28T10:22:53.325675Z"
        },
        "id": "c290f0c4",
        "outputId": "3bd6052c-10d8-48ee-8cb5-af9e578d6cc2",
        "papermill": {
          "duration": 0.943414,
          "end_time": "2024-02-28T10:22:53.328994",
          "exception": false,
          "start_time": "2024-02-28T10:22:52.385580",
          "status": "completed"
        },
        "tags": []
      },
      "outputs": [
        {
          "data": {
            "text/html": [
              "<style>#sk-container-id-1 {color: black;background-color: white;}#sk-container-id-1 pre{padding: 0;}#sk-container-id-1 div.sk-toggleable {background-color: white;}#sk-container-id-1 label.sk-toggleable__label {cursor: pointer;display: block;width: 100%;margin-bottom: 0;padding: 0.3em;box-sizing: border-box;text-align: center;}#sk-container-id-1 label.sk-toggleable__label-arrow:before {content: \"▸\";float: left;margin-right: 0.25em;color: #696969;}#sk-container-id-1 label.sk-toggleable__label-arrow:hover:before {color: black;}#sk-container-id-1 div.sk-estimator:hover label.sk-toggleable__label-arrow:before {color: black;}#sk-container-id-1 div.sk-toggleable__content {max-height: 0;max-width: 0;overflow: hidden;text-align: left;background-color: #f0f8ff;}#sk-container-id-1 div.sk-toggleable__content pre {margin: 0.2em;color: black;border-radius: 0.25em;background-color: #f0f8ff;}#sk-container-id-1 input.sk-toggleable__control:checked~div.sk-toggleable__content {max-height: 200px;max-width: 100%;overflow: auto;}#sk-container-id-1 input.sk-toggleable__control:checked~label.sk-toggleable__label-arrow:before {content: \"▾\";}#sk-container-id-1 div.sk-estimator input.sk-toggleable__control:checked~label.sk-toggleable__label {background-color: #d4ebff;}#sk-container-id-1 div.sk-label input.sk-toggleable__control:checked~label.sk-toggleable__label {background-color: #d4ebff;}#sk-container-id-1 input.sk-hidden--visually {border: 0;clip: rect(1px 1px 1px 1px);clip: rect(1px, 1px, 1px, 1px);height: 1px;margin: -1px;overflow: hidden;padding: 0;position: absolute;width: 1px;}#sk-container-id-1 div.sk-estimator {font-family: monospace;background-color: #f0f8ff;border: 1px dotted black;border-radius: 0.25em;box-sizing: border-box;margin-bottom: 0.5em;}#sk-container-id-1 div.sk-estimator:hover {background-color: #d4ebff;}#sk-container-id-1 div.sk-parallel-item::after {content: \"\";width: 100%;border-bottom: 1px solid gray;flex-grow: 1;}#sk-container-id-1 div.sk-label:hover label.sk-toggleable__label {background-color: #d4ebff;}#sk-container-id-1 div.sk-serial::before {content: \"\";position: absolute;border-left: 1px solid gray;box-sizing: border-box;top: 0;bottom: 0;left: 50%;z-index: 0;}#sk-container-id-1 div.sk-serial {display: flex;flex-direction: column;align-items: center;background-color: white;padding-right: 0.2em;padding-left: 0.2em;position: relative;}#sk-container-id-1 div.sk-item {position: relative;z-index: 1;}#sk-container-id-1 div.sk-parallel {display: flex;align-items: stretch;justify-content: center;background-color: white;position: relative;}#sk-container-id-1 div.sk-item::before, #sk-container-id-1 div.sk-parallel-item::before {content: \"\";position: absolute;border-left: 1px solid gray;box-sizing: border-box;top: 0;bottom: 0;left: 50%;z-index: -1;}#sk-container-id-1 div.sk-parallel-item {display: flex;flex-direction: column;z-index: 1;position: relative;background-color: white;}#sk-container-id-1 div.sk-parallel-item:first-child::after {align-self: flex-end;width: 50%;}#sk-container-id-1 div.sk-parallel-item:last-child::after {align-self: flex-start;width: 50%;}#sk-container-id-1 div.sk-parallel-item:only-child::after {width: 0;}#sk-container-id-1 div.sk-dashed-wrapped {border: 1px dashed gray;margin: 0 0.4em 0.5em 0.4em;box-sizing: border-box;padding-bottom: 0.4em;background-color: white;}#sk-container-id-1 div.sk-label label {font-family: monospace;font-weight: bold;display: inline-block;line-height: 1.2em;}#sk-container-id-1 div.sk-label-container {text-align: center;}#sk-container-id-1 div.sk-container {/* jupyter's `normalize.less` sets `[hidden] { display: none; }` but bootstrap.min.css set `[hidden] { display: none !important; }` so we also need the `!important` here to be able to override the default hidden behavior on the sphinx rendered scikit-learn.org. See: https://github.com/scikit-learn/scikit-learn/issues/21755 */display: inline-block !important;position: relative;}#sk-container-id-1 div.sk-text-repr-fallback {display: none;}</style><div id=\"sk-container-id-1\" class=\"sk-top-container\"><div class=\"sk-text-repr-fallback\"><pre>RandomForestClassifier()</pre><b>In a Jupyter environment, please rerun this cell to show the HTML representation or trust the notebook. <br />On GitHub, the HTML representation is unable to render, please try loading this page with nbviewer.org.</b></div><div class=\"sk-container\" hidden><div class=\"sk-item\"><div class=\"sk-estimator sk-toggleable\"><input class=\"sk-toggleable__control sk-hidden--visually\" id=\"sk-estimator-id-1\" type=\"checkbox\" checked><label for=\"sk-estimator-id-1\" class=\"sk-toggleable__label sk-toggleable__label-arrow\">RandomForestClassifier</label><div class=\"sk-toggleable__content\"><pre>RandomForestClassifier()</pre></div></div></div></div></div>"
            ],
            "text/plain": [
              "RandomForestClassifier()"
            ]
          },
          "execution_count": 21,
          "metadata": {},
          "output_type": "execute_result"
        }
      ],
      "source": [
        "# train model\n",
        "rfc.fit(X_train,y_train)"
      ]
    },
    {
      "cell_type": "code",
      "execution_count": null,
      "id": "c6faabe7",
      "metadata": {
        "execution": {
          "iopub.execute_input": "2024-02-28T10:22:53.343704Z",
          "iopub.status.busy": "2024-02-28T10:22:53.343321Z",
          "iopub.status.idle": "2024-02-28T10:22:53.396112Z",
          "shell.execute_reply": "2024-02-28T10:22:53.394745Z"
        },
        "id": "c6faabe7",
        "papermill": {
          "duration": 0.062522,
          "end_time": "2024-02-28T10:22:53.398194",
          "exception": false,
          "start_time": "2024-02-28T10:22:53.335672",
          "status": "completed"
        },
        "tags": []
      },
      "outputs": [],
      "source": [
        "# predict\n",
        "y_pred = rfc.predict(X_test)"
      ]
    },
    {
      "cell_type": "code",
      "execution_count": null,
      "id": "70f953ff",
      "metadata": {
        "execution": {
          "iopub.execute_input": "2024-02-28T10:22:53.414949Z",
          "iopub.status.busy": "2024-02-28T10:22:53.414608Z",
          "iopub.status.idle": "2024-02-28T10:22:53.419029Z",
          "shell.execute_reply": "2024-02-28T10:22:53.417584Z"
        },
        "id": "70f953ff",
        "papermill": {
          "duration": 0.014981,
          "end_time": "2024-02-28T10:22:53.421346",
          "exception": false,
          "start_time": "2024-02-28T10:22:53.406365",
          "status": "completed"
        },
        "tags": []
      },
      "outputs": [],
      "source": [
        "# evaluate\n",
        "from sklearn.metrics import classification_report"
      ]
    },
    {
      "cell_type": "code",
      "execution_count": null,
      "id": "faa26129",
      "metadata": {
        "execution": {
          "iopub.execute_input": "2024-02-28T10:22:53.436449Z",
          "iopub.status.busy": "2024-02-28T10:22:53.436091Z",
          "iopub.status.idle": "2024-02-28T10:22:53.512871Z",
          "shell.execute_reply": "2024-02-28T10:22:53.511449Z"
        },
        "id": "faa26129",
        "outputId": "378b7b79-ec0c-4e11-df54-9b9f347d56ac",
        "papermill": {
          "duration": 0.086787,
          "end_time": "2024-02-28T10:22:53.515087",
          "exception": false,
          "start_time": "2024-02-28T10:22:53.428300",
          "status": "completed"
        },
        "tags": []
      },
      "outputs": [
        {
          "name": "stdout",
          "output_type": "stream",
          "text": [
            "              precision    recall  f1-score   support\n",
            "\n",
            "          No       0.94      0.81      0.87      1290\n",
            "         Yes       0.83      0.95      0.89      1297\n",
            "\n",
            "    accuracy                           0.88      2587\n",
            "   macro avg       0.89      0.88      0.88      2587\n",
            "weighted avg       0.89      0.88      0.88      2587\n",
            "\n"
          ]
        }
      ],
      "source": [
        "print(classification_report(y_test,y_pred))"
      ]
    }
  ],
  "metadata": {
    "colab": {
      "provenance": [],
      "include_colab_link": true
    },
    "kaggle": {
      "accelerator": "none",
      "dataSources": [],
      "dockerImageVersionId": 30664,
      "isGpuEnabled": false,
      "isInternetEnabled": true,
      "language": "python",
      "sourceType": "notebook"
    },
    "kernelspec": {
      "display_name": "Python 3",
      "language": "python",
      "name": "python3"
    },
    "language_info": {
      "codemirror_mode": {
        "name": "ipython",
        "version": 3
      },
      "file_extension": ".py",
      "mimetype": "text/x-python",
      "name": "python",
      "nbconvert_exporter": "python",
      "pygments_lexer": "ipython3",
      "version": "3.10.13"
    },
    "papermill": {
      "default_parameters": {},
      "duration": 8.328976,
      "end_time": "2024-02-28T10:22:54.040438",
      "environment_variables": {},
      "exception": null,
      "input_path": "__notebook__.ipynb",
      "output_path": "__notebook__.ipynb",
      "parameters": {},
      "start_time": "2024-02-28T10:22:45.711462",
      "version": "2.5.0"
    }
  },
  "nbformat": 4,
  "nbformat_minor": 5
}